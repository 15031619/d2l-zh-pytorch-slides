{
 "cells": [
  {
   "cell_type": "markdown",
   "id": "781e3f0a",
   "metadata": {
    "slideshow": {
     "slide_type": "-"
    }
   },
   "source": [
    "# 图像卷积\n",
    "\n",
    "互相关运算"
   ]
  },
  {
   "cell_type": "code",
   "execution_count": 2,
   "id": "ef4cba1d",
   "metadata": {
    "execution": {
     "iopub.execute_input": "2021-12-03T06:41:59.533020Z",
     "iopub.status.busy": "2021-12-03T06:41:59.532404Z",
     "iopub.status.idle": "2021-12-03T06:41:59.534378Z",
     "shell.execute_reply": "2021-12-03T06:41:59.534852Z"
    },
    "origin_pos": 3,
    "tab": [
     "pytorch"
    ]
   },
   "outputs": [],
   "source": [
    "import torch\n",
    "from torch import nn\n",
    "from d2l import torch as d2l\n",
    "\n",
    "def corr2d(X, K):  \n",
    "    \"\"\"计算二维互相关运算。\"\"\"\n",
    "    h, w = K.shape\n",
    "    Y = torch.zeros((X.shape[0] - h + 1, X.shape[1] - w + 1))\n",
    "    for i in range(Y.shape[0]):\n",
    "        for j in range(Y.shape[1]):\n",
    "            Y[i, j] = (X[i:i + h, j:j + w] * K).sum()\n",
    "    return Y"
   ]
  },
  {
   "cell_type": "markdown",
   "id": "9c8b3d08",
   "metadata": {
    "slideshow": {
     "slide_type": "slide"
    }
   },
   "source": [
    "验证上述二维互相关运算的输出"
   ]
  },
  {
   "cell_type": "code",
   "execution_count": 3,
   "id": "3344be15",
   "metadata": {
    "execution": {
     "iopub.execute_input": "2021-12-03T06:41:59.539314Z",
     "iopub.status.busy": "2021-12-03T06:41:59.538755Z",
     "iopub.status.idle": "2021-12-03T06:41:59.546780Z",
     "shell.execute_reply": "2021-12-03T06:41:59.547257Z"
    },
    "origin_pos": 6,
    "tab": [
     "pytorch"
    ]
   },
   "outputs": [
    {
     "data": {
      "text/plain": [
       "tensor([[19., 25.],\n",
       "        [37., 43.]])"
      ]
     },
     "execution_count": 3,
     "metadata": {},
     "output_type": "execute_result"
    }
   ],
   "source": [
    "X = torch.tensor([[0.0, 1.0, 2.0], [3.0, 4.0, 5.0], [6.0, 7.0, 8.0]])\n",
    "K = torch.tensor([[0.0, 1.0], [2.0, 3.0]])\n",
    "corr2d(X, K)"
   ]
  },
  {
   "cell_type": "markdown",
   "id": "e796f417",
   "metadata": {
    "slideshow": {
     "slide_type": "slide"
    }
   },
   "source": [
    "实现二维卷积层"
   ]
  },
  {
   "cell_type": "code",
   "execution_count": 4,
   "id": "8d96f247",
   "metadata": {
    "execution": {
     "iopub.execute_input": "2021-12-03T06:41:59.552032Z",
     "iopub.status.busy": "2021-12-03T06:41:59.551468Z",
     "iopub.status.idle": "2021-12-03T06:41:59.554019Z",
     "shell.execute_reply": "2021-12-03T06:41:59.553440Z"
    },
    "origin_pos": 9,
    "tab": [
     "pytorch"
    ]
   },
   "outputs": [],
   "source": [
    "class Conv2D(nn.Module):\n",
    "    def __init__(self, kernel_size):\n",
    "        super().__init__()\n",
    "        self.weight = nn.Parameter(torch.rand(kernel_size))\n",
    "        self.bias = nn.Parameter(torch.zeros(1))\n",
    "\n",
    "    def forward(self, x):\n",
    "        return corr2d(x, self.weight) + self.bias"
   ]
  },
  {
   "cell_type": "markdown",
   "id": "66d05e9e",
   "metadata": {
    "slideshow": {
     "slide_type": "slide"
    }
   },
   "source": [
    "卷积层的一个简单应用：\n",
    "检测图像中不同颜色的边缘"
   ]
  },
  {
   "cell_type": "code",
   "execution_count": 5,
   "id": "ede79aa1",
   "metadata": {
    "execution": {
     "iopub.execute_input": "2021-12-03T06:41:59.557236Z",
     "iopub.status.busy": "2021-12-03T06:41:59.556076Z",
     "iopub.status.idle": "2021-12-03T06:41:59.561918Z",
     "shell.execute_reply": "2021-12-03T06:41:59.561347Z"
    },
    "origin_pos": 12,
    "tab": [
     "pytorch"
    ]
   },
   "outputs": [
    {
     "data": {
      "text/plain": [
       "tensor([[1., 1., 0., 0., 0., 0., 1., 1.],\n",
       "        [1., 1., 0., 0., 0., 0., 1., 1.],\n",
       "        [1., 1., 0., 0., 0., 0., 1., 1.],\n",
       "        [1., 1., 0., 0., 0., 0., 1., 1.],\n",
       "        [1., 1., 0., 0., 0., 0., 1., 1.],\n",
       "        [1., 1., 0., 0., 0., 0., 1., 1.]])"
      ]
     },
     "execution_count": 5,
     "metadata": {},
     "output_type": "execute_result"
    }
   ],
   "source": [
    "X = torch.ones((6, 8))\n",
    "X[:, 2:6] = 0\n",
    "X"
   ]
  },
  {
   "cell_type": "code",
   "execution_count": 6,
   "id": "15287133",
   "metadata": {
    "execution": {
     "iopub.execute_input": "2021-12-03T06:41:59.565778Z",
     "iopub.status.busy": "2021-12-03T06:41:59.565222Z",
     "iopub.status.idle": "2021-12-03T06:41:59.567653Z",
     "shell.execute_reply": "2021-12-03T06:41:59.567088Z"
    },
    "origin_pos": 15,
    "tab": [
     "pytorch"
    ]
   },
   "outputs": [],
   "source": [
    "K = torch.tensor([[1.0, -1.0]])"
   ]
  },
  {
   "cell_type": "markdown",
   "id": "b0749c03",
   "metadata": {
    "slideshow": {
     "slide_type": "slide"
    }
   },
   "source": [
    "输出`Y`中的1代表从白色到黑色的边缘，-1代表从黑色到白色的边缘"
   ]
  },
  {
   "cell_type": "code",
   "execution_count": 7,
   "id": "eaf4c56c",
   "metadata": {
    "execution": {
     "iopub.execute_input": "2021-12-03T06:41:59.571070Z",
     "iopub.status.busy": "2021-12-03T06:41:59.570510Z",
     "iopub.status.idle": "2021-12-03T06:41:59.575775Z",
     "shell.execute_reply": "2021-12-03T06:41:59.575303Z"
    },
    "origin_pos": 17,
    "tab": [
     "pytorch"
    ]
   },
   "outputs": [
    {
     "data": {
      "text/plain": [
       "tensor([[ 0.,  1.,  0.,  0.,  0., -1.,  0.],\n",
       "        [ 0.,  1.,  0.,  0.,  0., -1.,  0.],\n",
       "        [ 0.,  1.,  0.,  0.,  0., -1.,  0.],\n",
       "        [ 0.,  1.,  0.,  0.,  0., -1.,  0.],\n",
       "        [ 0.,  1.,  0.,  0.,  0., -1.,  0.],\n",
       "        [ 0.,  1.,  0.,  0.,  0., -1.,  0.]])"
      ]
     },
     "execution_count": 7,
     "metadata": {},
     "output_type": "execute_result"
    }
   ],
   "source": [
    "Y = corr2d(X, K)\n",
    "Y"
   ]
  },
  {
   "cell_type": "markdown",
   "id": "7f2329c4",
   "metadata": {
    "slideshow": {
     "slide_type": "slide"
    }
   },
   "source": [
    "卷积核`K`只可以检测垂直边缘"
   ]
  },
  {
   "cell_type": "code",
   "execution_count": 8,
   "id": "6bb5fff4",
   "metadata": {
    "execution": {
     "iopub.execute_input": "2021-12-03T06:41:59.579382Z",
     "iopub.status.busy": "2021-12-03T06:41:59.578823Z",
     "iopub.status.idle": "2021-12-03T06:41:59.583737Z",
     "shell.execute_reply": "2021-12-03T06:41:59.583269Z"
    },
    "origin_pos": 19,
    "tab": [
     "pytorch"
    ]
   },
   "outputs": [
    {
     "data": {
      "text/plain": [
       "tensor([[0., 0., 0., 0., 0.],\n",
       "        [0., 0., 0., 0., 0.],\n",
       "        [0., 0., 0., 0., 0.],\n",
       "        [0., 0., 0., 0., 0.],\n",
       "        [0., 0., 0., 0., 0.],\n",
       "        [0., 0., 0., 0., 0.],\n",
       "        [0., 0., 0., 0., 0.],\n",
       "        [0., 0., 0., 0., 0.]])"
      ]
     },
     "execution_count": 8,
     "metadata": {},
     "output_type": "execute_result"
    }
   ],
   "source": [
    "corr2d(X.t(), K)"
   ]
  },
  {
   "cell_type": "markdown",
   "id": "982ed07c",
   "metadata": {
    "slideshow": {
     "slide_type": "slide"
    }
   },
   "source": [
    "学习由`X`生成`Y`的卷积核"
   ]
  },
  {
   "cell_type": "code",
   "execution_count": 9,
   "id": "e66e21c5",
   "metadata": {
    "execution": {
     "iopub.execute_input": "2021-12-03T06:41:59.589653Z",
     "iopub.status.busy": "2021-12-03T06:41:59.585865Z",
     "iopub.status.idle": "2021-12-03T06:41:59.607450Z",
     "shell.execute_reply": "2021-12-03T06:41:59.607953Z"
    },
    "origin_pos": 22,
    "tab": [
     "pytorch"
    ]
   },
   "outputs": [
    {
     "name": "stdout",
     "output_type": "stream",
     "text": [
      "batch 2, loss 3.338\n",
      "batch 4, loss 0.636\n",
      "batch 6, loss 0.138\n",
      "batch 8, loss 0.036\n",
      "batch 10, loss 0.011\n"
     ]
    }
   ],
   "source": [
    "conv2d = nn.Conv2d(1,1, kernel_size=(1, 2), bias=False)\n",
    "\n",
    "X = X.reshape((1, 1, 6, 8))\n",
    "Y = Y.reshape((1, 1, 6, 7))\n",
    "lr = 3e-2\n",
    "\n",
    "for i in range(10):\n",
    "    Y_hat = conv2d(X)\n",
    "    l = (Y_hat - Y) ** 2\n",
    "    conv2d.zero_grad()\n",
    "    l.sum().backward()\n",
    "    conv2d.weight.data[:] -= lr * conv2d.weight.grad\n",
    "    if (i + 1) % 2 == 0:\n",
    "        print(f'batch {i+1}, loss {l.sum():.3f}')"
   ]
  },
  {
   "cell_type": "markdown",
   "id": "27f9da44",
   "metadata": {
    "slideshow": {
     "slide_type": "slide"
    }
   },
   "source": [
    "所学的卷积核的权重张量"
   ]
  },
  {
   "cell_type": "code",
   "execution_count": 10,
   "id": "7e17f21e",
   "metadata": {
    "execution": {
     "iopub.execute_input": "2021-12-03T06:41:59.612843Z",
     "iopub.status.busy": "2021-12-03T06:41:59.611888Z",
     "iopub.status.idle": "2021-12-03T06:41:59.616604Z",
     "shell.execute_reply": "2021-12-03T06:41:59.615999Z"
    },
    "origin_pos": 26,
    "tab": [
     "pytorch"
    ]
   },
   "outputs": [
    {
     "data": {
      "text/plain": [
       "tensor([[ 1.0006, -0.9813]])"
      ]
     },
     "execution_count": 10,
     "metadata": {},
     "output_type": "execute_result"
    }
   ],
   "source": [
    "conv2d.weight.data.reshape((1, 2))"
   ]
  }
 ],
 "metadata": {
  "celltoolbar": "Slideshow",
  "language_info": {
   "name": "python"
  },
  "rise": {
   "autolaunch": true,
   "enable_chalkboard": true,
   "overlay": "<div class='my-top-right'><img height=80px src='http://d2l.ai/_static/logo-with-text.png'/></div><div class='my-top-left'></div>",
   "scroll": true
  }
 },
 "nbformat": 4,
 "nbformat_minor": 5
}